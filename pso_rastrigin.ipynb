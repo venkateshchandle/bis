{
  "nbformat": 4,
  "nbformat_minor": 0,
  "metadata": {
    "colab": {
      "provenance": [],
      "authorship_tag": "ABX9TyPNwydRY1vH7DfpKmrZfnKe",
      "include_colab_link": true
    },
    "kernelspec": {
      "name": "python3",
      "display_name": "Python 3"
    },
    "language_info": {
      "name": "python"
    }
  },
  "cells": [
    {
      "cell_type": "markdown",
      "metadata": {
        "id": "view-in-github",
        "colab_type": "text"
      },
      "source": [
        "<a href=\"https://colab.research.google.com/github/venkateshchandle/bis/blob/main/pso_rastrigin.ipynb\" target=\"_parent\"><img src=\"https://colab.research.google.com/assets/colab-badge.svg\" alt=\"Open In Colab\"/></a>"
      ]
    },
    {
      "cell_type": "code",
      "execution_count": 7,
      "metadata": {
        "colab": {
          "base_uri": "https://localhost:8080/"
        },
        "id": "kdNAWkomAFoj",
        "outputId": "ee72d007-a3a0-41d2-8086-541a06df1e04"
      },
      "outputs": [
        {
          "output_type": "stream",
          "name": "stdout",
          "text": [
            "Best Position: [0.93422393 2.14376055]\n",
            "Best Fitness (Rastrigin): 10.119992974602665\n"
          ]
        }
      ],
      "source": [
        "\n",
        "import numpy as np\n",
        "\n",
        "# Define the Rastrigin function\n",
        "def rastrigin(x):\n",
        "    A = 10\n",
        "    return A * len(x) + sum(x_i**2 - A * np.cos(2 * np.pi * x_i) for x_i in x)\n",
        "\n",
        "# Particle class to store position, velocity, personal best, and fitness\n",
        "class Particle:\n",
        "    def __init__(self, bounds):\n",
        "        self.position = np.random.uniform(bounds[0], bounds[1], size=len(bounds[0]))\n",
        "        self.velocity = np.random.uniform(-1, 1, size=len(bounds[0]))\n",
        "        self.best_position = np.copy(self.position)\n",
        "        self.best_fitness = rastrigin(self.position)\n",
        "\n",
        "# Particle Swarm Optimization function\n",
        "def particle_swarm_optimization(num_particles, bounds, num_iterations):\n",
        "    # PSO parameters\n",
        "    inertia_weight = 0.5\n",
        "    cognitive_coeff = 1.5\n",
        "    social_coeff = 1.5\n",
        "\n",
        "    # Initialize particles\n",
        "    particles = [Particle(bounds) for _ in range(num_particles)]\n",
        "    global_best_position = particles[0].best_position\n",
        "    global_best_fitness = particles[0].best_fitness\n",
        "\n",
        "    for _ in range(num_iterations):\n",
        "        for particle in particles:\n",
        "            # Evaluate fitness\n",
        "            fitness = rastrigin(particle.position)\n",
        "            # Update personal best\n",
        "            if fitness < particle.best_fitness:\n",
        "                particle.best_fitness = fitness\n",
        "                particle.best_position = np.copy(particle.position)\n",
        "\n",
        "            # # Update global best\n",
        "            if fitness < global_best_fitness:\n",
        "                global_best_fitness = fitness\n",
        "                global_best_position = np.copy(particle.position)\n",
        "\n",
        "            # Update velocity and position\n",
        "            r1, r2 = np.random.rand(), np.random.rand()\n",
        "            particle.velocity = (inertia_weight * particle.velocity +\n",
        "                                 cognitive_coeff * r1 * (particle.best_position - particle.position) +\n",
        "                                 social_coeff * r2 * (global_best_position - particle.position))\n",
        "            particle.position += particle.velocity\n",
        "\n",
        "        return global_best_position, global_best_fitness\n",
        "\n",
        "# Parameters\n",
        "bounds = (np.array([-5, -5]), np.array([5, 5]))  # Bounds for x and y\n",
        "num_particles = 30\n",
        "num_iterations = 100\n",
        "\n",
        "# Run PSO\n",
        "best_position, best_fitness = particle_swarm_optimization(num_particles, bounds, num_iterations)\n",
        "\n",
        "print(f\"Best Position: {best_position}\")\n",
        "print(f\"Best Fitness (Rastrigin): {best_fitness}\")\n",
        "\n"
      ]
    }
  ]
}