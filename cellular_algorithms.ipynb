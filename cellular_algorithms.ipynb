{
  "nbformat": 4,
  "nbformat_minor": 0,
  "metadata": {
    "colab": {
      "provenance": [],
      "authorship_tag": "ABX9TyOuMzm6WB1nwJJxI76o3vnk",
      "include_colab_link": true
    },
    "kernelspec": {
      "name": "python3",
      "display_name": "Python 3"
    },
    "language_info": {
      "name": "python"
    }
  },
  "cells": [
    {
      "cell_type": "markdown",
      "metadata": {
        "id": "view-in-github",
        "colab_type": "text"
      },
      "source": [
        "<a href=\"https://colab.research.google.com/github/venkateshchandle/bis/blob/main/cellular_algorithms.ipynb\" target=\"_parent\"><img src=\"https://colab.research.google.com/assets/colab-badge.svg\" alt=\"Open In Colab\"/></a>"
      ]
    },
    {
      "cell_type": "code",
      "execution_count": 2,
      "metadata": {
        "colab": {
          "base_uri": "https://localhost:8080/",
          "height": 796
        },
        "id": "H2Uph-NHGPD_",
        "outputId": "99f00f4a-5513-4980-d46d-e56819512108"
      },
      "outputs": [
        {
          "output_type": "display_data",
          "data": {
            "text/plain": [
              "<Figure size 800x800 with 1 Axes>"
            ],
            "image/png": "[encoded data removed]"
          },
          "metadata": {}
        },
        {
          "output_type": "stream",
          "name": "stdout",
          "text": [
            "Distance Grid:\n",
            "[[ 0.  1.  2.  3. inf]\n",
            " [inf inf  3. inf  7.]\n",
            " [ 6.  5.  4.  5.  6.]\n",
            " [ 7. inf inf inf  7.]\n",
            " [ 8.  9. 10.  9.  8.]]\n",
            "Shortest Path:\n",
            "[(0, 0), (0, 1), (0, 2), (1, 2), (2, 2), (2, 3), (2, 4), (3, 4), (4, 4)]\n"
          ]
        }
      ],
      "source": [
        "import numpy as np\n",
        "import matplotlib.pyplot as plt\n",
        "\n",
        "def parallel_cellular_shortest_path(grid, start, end, max_iterations=100):\n",
        "    rows, cols = grid.shape\n",
        "    distance = np.full((rows, cols), np.inf)\n",
        "    distance[start] = 0\n",
        "\n",
        "    directions = [(-1, 0), (1, 0), (0, -1), (0, 1)]\n",
        "    for iteration in range(max_iterations):\n",
        "        updated = False\n",
        "        new_distance = distance.copy()\n",
        "        for i in range(rows):\n",
        "            for j in range(cols):\n",
        "                if grid[i][j] == 1:\n",
        "                    continue\n",
        "                for d in directions:\n",
        "                    ni, nj = i + d[0], j + d[1]\n",
        "                    if 0 <= ni < rows and 0 <= nj < cols:\n",
        "                        if distance[ni][nj] + 1 < new_distance[i][j]:\n",
        "                            new_distance[i][j] = distance[ni][nj] + 1\n",
        "                            updated = True\n",
        "        distance = new_distance\n",
        "        if not updated:\n",
        "            break\n",
        "\n",
        "    path = []\n",
        "    if distance[end] == np.inf:\n",
        "        print(\"No path found.\")\n",
        "        visualize_grid(grid, start, end, path, distance)\n",
        "        return distance, path\n",
        "\n",
        "    current = end\n",
        "    path.append(current)\n",
        "    while current != start:\n",
        "        i, j = current\n",
        "        for d in directions:\n",
        "            ni, nj = i + d[0], j + d[1]\n",
        "            if 0 <= ni < rows and 0 <= nj < cols:\n",
        "                if distance[ni][nj] == distance[i][j] - 1:\n",
        "                    path.append((ni, nj))\n",
        "                    current = (ni, nj)\n",
        "                    break\n",
        "    path.reverse()\n",
        "    visualize_grid(grid, start, end, path, distance)\n",
        "    return distance, path\n",
        "\n",
        "\n",
        "def visualize_grid(grid, start, end, path, distance):\n",
        "    rows, cols = grid.shape\n",
        "    fig, ax = plt.subplots(figsize=(8, 8))\n",
        "\n",
        "\n",
        "    for i in range(rows):\n",
        "        for j in range(cols):\n",
        "            if grid[i, j] == 1:\n",
        "                ax.add_patch(plt.Rectangle((j, rows - i - 1), 1, 1, color=\"black\"))  # Blocked cells\n",
        "            else:\n",
        "                ax.add_patch(plt.Rectangle((j, rows - i - 1), 1, 1, edgecolor=\"gray\", facecolor=\"white\"))\n",
        "\n",
        "    ax.add_patch(plt.Rectangle((start[1], rows - start[0] - 1), 1, 1, color=\"green\", label=\"Start\"))\n",
        "    ax.add_patch(plt.Rectangle((end[1], rows - end[0] - 1), 1, 1, color=\"red\", label=\"End\"))\n",
        "    if path:\n",
        "        for (x, y) in path:\n",
        "            ax.add_patch(plt.Rectangle((y, rows - x - 1), 1, 1, color=\"blue\", alpha=0.5))\n",
        "    for i in range(rows):\n",
        "        for j in range(cols):\n",
        "            if np.isfinite(distance[i, j]):\n",
        "                ax.text(j + 0.5, rows - i - 1 + 0.5, f\"{int(distance[i, j])}\",\n",
        "                        color=\"black\", ha=\"center\", va=\"center\", fontsize=8)\n",
        "\n",
        "    ax.set_xlim(0, cols)\n",
        "    ax.set_ylim(0, rows)\n",
        "    ax.set_xticks(range(cols))\n",
        "    ax.set_yticks(range(rows))\n",
        "    ax.set_xticklabels([])\n",
        "    ax.set_yticklabels([])\n",
        "    ax.grid(True)\n",
        "    ax.legend(loc=\"upper left\")\n",
        "    plt.gca().invert_yaxis()\n",
        "    plt.show()\n",
        "\n",
        "\n",
        "if __name__ == \"__main__\":\n",
        "    grid = np.array([\n",
        "        [0, 0, 0, 0, 1],\n",
        "        [1, 1, 0, 1, 0],\n",
        "        [0, 0, 0, 0, 0],\n",
        "        [0, 1, 1, 1, 0],\n",
        "        [0, 0, 0, 0, 0]\n",
        "    ])\n",
        "\n",
        "    start = (0, 0)\n",
        "    end = (4, 4)\n",
        "\n",
        "    distance, path = parallel_cellular_shortest_path(grid, start, end)\n",
        "    print(\"Distance Grid:\")\n",
        "    print(distance)\n",
        "    print(\"Shortest Path:\")\n",
        "    print(path)\n"
      ]
    }
  ]
}